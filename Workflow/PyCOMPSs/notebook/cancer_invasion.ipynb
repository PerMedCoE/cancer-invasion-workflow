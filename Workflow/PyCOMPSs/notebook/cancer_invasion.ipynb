{
 "cells": [
  {
   "cell_type": "markdown",
   "id": "0e65cc8d",
   "metadata": {},
   "source": [
    "# Cancer Invasion Workflow\n",
    "\n",
    "This is the interactive version of the cancer invasion workflow using PyCOMPSs.\n",
    "\n",
    "It uses the Building Blocks from jupyter, whilst PyCOMPSs is used to parallelize the workflow."
   ]
  },
  {
   "cell_type": "code",
   "execution_count": null,
   "id": "b60e2ff8",
   "metadata": {},
   "outputs": [],
   "source": [
    "import os\n",
    "\n",
    "current_path = os.getcwd()\n",
    "if not \"PERMEDCOE_IMAGES\" in os.environ:\n",
    "    os.environ[\"PERMEDCOE_IMAGES\"] = current_path + \"/../../../../BuildingBlocks/Resources/images/\"\n",
    "os.environ[\"COMPUTING_UNITS\"] = \"1\""
   ]
  },
  {
   "cell_type": "markdown",
   "id": "f4508c57",
   "metadata": {},
   "source": [
    "First, start the PyCOMPSs runtime and import the used PyCOMPSs synchronization function (``compss_wait_on_directory``)"
   ]
  },
  {
   "cell_type": "code",
   "execution_count": null,
   "id": "a7255edb",
   "metadata": {},
   "outputs": [],
   "source": [
    "import pycompss.interactive as ipycompss"
   ]
  },
  {
   "cell_type": "code",
   "execution_count": null,
   "id": "ddf2b25f",
   "metadata": {},
   "outputs": [],
   "source": [
    "ipycompss.start(graph=True, trace=True)\n",
    "\n",
    "# PyCOMPSs imports\n",
    "from pycompss.api.api import compss_wait_on_directory"
   ]
  },
  {
   "cell_type": "markdown",
   "id": "2a700428",
   "metadata": {},
   "source": [
    "Second, import the required Building Blocks"
   ]
  },
  {
   "cell_type": "code",
   "execution_count": null,
   "id": "f5628a64",
   "metadata": {},
   "outputs": [],
   "source": [
    "# To set the default PyCOMPSs TMPDIR\n",
    "from permedcoe import TMPDIR\n",
    "\n",
    "# Import building block tasks\n",
    "from PhysiBoSS_invasion_BB import physiboss_invasion\n",
    "from invasion_analysis_BB import invasion_analysis\n",
    "from invasion_analysis_BB import invasion_generate_plots"
   ]
  },
  {
   "cell_type": "markdown",
   "id": "22284399",
   "metadata": {},
   "source": [
    "Third, set the input parameters and load input data"
   ]
  },
  {
   "cell_type": "code",
   "execution_count": null,
   "id": "8069f2f5",
   "metadata": {},
   "outputs": [],
   "source": [
    "print(\"----------------------------\")\n",
    "print(\"| Cancer Invasion Workflow |\")\n",
    "print(\"----------------------------\")\n",
    "\n",
    "parameters_set_file = current_path + \"/../../../Resources/data/parameters_small.csv\"\n",
    "outdir = current_path + \"/results/\"\n",
    "reps = 5 \n",
    "max_time = 20"
   ]
  },
  {
   "cell_type": "code",
   "execution_count": null,
   "id": "3d956a40",
   "metadata": {},
   "outputs": [],
   "source": [
    "parameters_sets = []\n",
    "with open(parameters_set_file, \"r\") as psets:\n",
    "    for line in psets.readlines():\n",
    "        # print(line)\n",
    "        raw_pset = line.split(\",\")\n",
    "        # print(raw_pset)\n",
    "        for value in raw_pset[1:]:\n",
    "            parameters_sets.append((raw_pset[0].strip(), float(value.strip())))\n",
    "\n",
    "analysis_paths = []\n",
    "simulations_subfolder = \"simulations\"\n",
    "simulations_path = os.path.join(outdir, simulations_subfolder)\n",
    "\n",
    "print(f\"Parameters_sets: {parameters_sets}\")\n",
    "print(f\"Simulations_path: {simulations_path}\")"
   ]
  },
  {
   "cell_type": "markdown",
   "id": "7f6b7d21",
   "metadata": {},
   "source": [
    "Next, iterate over the input parameters and invoke the Building Blocks"
   ]
  },
  {
   "cell_type": "code",
   "execution_count": null,
   "id": "b8ccf667",
   "metadata": {},
   "outputs": [],
   "source": [
    "for i_pset, parameter_set in enumerate(parameters_sets):\n",
    "    pset_id = \"parameter_%d\" % i_pset\n",
    "\n",
    "    main_results_path = os.path.join(simulations_path, pset_id)\n",
    "\n",
    "    os.makedirs(main_results_path)\n",
    "    pset_filepath = os.path.join(main_results_path, \"parameter_set.csv\")\n",
    "\n",
    "    with open(pset_filepath, \"w\") as pset_file:\n",
    "        pset_file.write(\"%s,%g\" % (parameter_set[0], (parameter_set[1])))\n",
    "\n",
    "    physiboss_results = []\n",
    "    # Do not modify physiboss_subfolder (it is hardcoded in meta-analysis)\n",
    "    physiboss_subfolder = \"physiboss_results\"\n",
    "    physiboss_result_path = os.path.join(main_results_path, physiboss_subfolder)\n",
    "\n",
    "    physiboss_final_net_results = []\n",
    "\n",
    "    for r in range(1, reps + 1):\n",
    "        print(\">>> Repetition: \" + str(r))\n",
    "        name = \"run_\" + str(r)\n",
    "        out_file = os.path.join(physiboss_result_path, name + \".out\")\n",
    "        err_file = os.path.join(physiboss_result_path, name + \".err\")\n",
    "        print(\"\\t- \" + out_file)\n",
    "        print(\"\\t- \" + err_file)\n",
    "\n",
    "        results_dir = os.path.join(physiboss_result_path, name)\n",
    "        os.makedirs(results_dir)\n",
    "        physiboss_results.append(results_dir)\n",
    "\n",
    "        final_net_dir = os.path.join(physiboss_result_path, name + \"_final_net\")\n",
    "        os.makedirs(final_net_dir)\n",
    "        physiboss_final_net_results.append(final_net_dir)\n",
    "\n",
    "        # PhysiBoSS\n",
    "        physiboss_invasion(\n",
    "            parameter_set=pset_filepath,\n",
    "            repetition=r,\n",
    "            out_file=out_file,\n",
    "            err_file=err_file,\n",
    "            results_dir=results_dir,\n",
    "            parallel=os.environ[\"COMPUTING_UNITS\"],\n",
    "            max_time=max_time,\n",
    "            final_net_dir=final_net_dir,\n",
    "            tmpdir=TMPDIR,\n",
    "        )\n",
    "\n",
    "    analysis_subfolder = \"invasion_analysis\"\n",
    "    analysis_path = os.path.join(main_results_path, analysis_subfolder)\n",
    "\n",
    "    os.makedirs(analysis_path)\n",
    "    output_data = os.path.join(analysis_path, \"data_%s.csv\" % str(i_pset))\n",
    "    analysis_paths.append(output_data)\n",
    "\n",
    "    invasion_analysis(TMPDIR, output_data, *physiboss_final_net_results)"
   ]
  },
  {
   "cell_type": "markdown",
   "id": "9ae5a156",
   "metadata": {},
   "source": [
    "Now, it is possible to do any intermediate interactive action.\n",
    "\n",
    "And next, the ``invasion_generate_plots`` function from the ``invasion_analysis_BB`` Building Block can ve invoked to generate the result plots, and wait for the results."
   ]
  },
  {
   "cell_type": "code",
   "execution_count": null,
   "id": "b5142f5e",
   "metadata": {},
   "outputs": [],
   "source": [
    "invasion_plots_path = os.path.join(outdir, \"plots\")\n",
    "if not os.path.exists(invasion_plots_path):\n",
    "    os.makedirs(invasion_plots_path)\n",
    "\n",
    "invasion_generate_plots(\n",
    "    TMPDIR, parameters_set_file, invasion_plots_path, *analysis_paths\n",
    ")\n",
    "\n",
    "compss_wait_on_directory(invasion_plots_path)"
   ]
  },
  {
   "cell_type": "markdown",
   "id": "2dc4deca",
   "metadata": {},
   "source": [
    "Once the plots have been generate, they can be displayed."
   ]
  },
  {
   "cell_type": "code",
   "execution_count": null,
   "id": "6543a22e",
   "metadata": {},
   "outputs": [],
   "source": [
    "from IPython.display import Image\n",
    "Image(filename=os.path.join(invasion_plots_path, 'migration_bias.png'))"
   ]
  },
  {
   "cell_type": "code",
   "execution_count": null,
   "id": "43481790",
   "metadata": {},
   "outputs": [],
   "source": [
    "Image(filename=os.path.join(invasion_plots_path, 'migration_bias_ratio.png'))"
   ]
  },
  {
   "cell_type": "markdown",
   "id": "dbb6a5cf",
   "metadata": {},
   "source": [
    "Finally, we can stop the PyCOMPSs runtime."
   ]
  },
  {
   "cell_type": "code",
   "execution_count": null,
   "id": "2bdbebad",
   "metadata": {},
   "outputs": [],
   "source": [
    "ipycompss.stop(sync=False)"
   ]
  }
 ],
 "metadata": {
  "kernelspec": {
   "display_name": "Python 3 (ipykernel)",
   "language": "python",
   "name": "python3"
  },
  "language_info": {
   "codemirror_mode": {
    "name": "ipython",
    "version": 3
   },
   "file_extension": ".py",
   "mimetype": "text/x-python",
   "name": "python",
   "nbconvert_exporter": "python",
   "pygments_lexer": "ipython3",
   "version": "3.10.12"
  },
  "varInspector": {
   "cols": {
    "lenName": 16,
    "lenType": 16,
    "lenVar": 40
   },
   "kernels_config": {
    "python": {
     "delete_cmd_postfix": "",
     "delete_cmd_prefix": "del ",
     "library": "var_list.py",
     "varRefreshCmd": "print(var_dic_list())"
    },
    "r": {
     "delete_cmd_postfix": ") ",
     "delete_cmd_prefix": "rm(",
     "library": "var_list.r",
     "varRefreshCmd": "cat(var_dic_list()) "
    }
   },
   "types_to_exclude": [
    "module",
    "function",
    "builtin_function_or_method",
    "instance",
    "_Feature"
   ],
   "window_display": false
  }
 },
 "nbformat": 4,
 "nbformat_minor": 5
}
